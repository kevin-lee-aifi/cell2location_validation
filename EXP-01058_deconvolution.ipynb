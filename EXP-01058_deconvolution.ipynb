{
 "cells": [
  {
   "cell_type": "markdown",
   "id": "f222d836-562d-4e8f-8542-234b1b434cc8",
   "metadata": {},
   "source": [
    "### Starting jupyter env.\n",
    "```bash\n",
    "cd /home/jupyter/EXP-01058 && source cell2location_startup.sh\n",
    "```\n",
    "\n",
    "### Managing jupyter env.\n",
    "```bash\n",
    "# Activates conda env\n",
    "conda activate \"/home/jupyter/EXP-01058/envs/cell2loc_env\"\n",
    "\n",
    "# Deactivates conda env\n",
    "conda deactivate\n",
    "\n",
    "# Lists all jupyter kernels\n",
    "jupyter kernelspec list\n",
    "\n",
    "# Removes cell2loc_env jupyter kernel\n",
    "jupyter kernelspec remove cell2loc_env exp-01058_env\n",
    "\n",
    "# Registers environment to a kernel\n",
    "python -m ipykernel install --user --name=cell2loc_env --display-name='Environment (cell2loc_env)'\n",
    "```\n",
    "\n",
    "### Transferring scRNA data for TIS05740\n",
    "```bash\n",
    "gcloud auth login\n",
    "\n",
    "gsutil -o GSUtil:parallel_composite_upload_threshold=2G -o GSUtil:parallel_thread_count=16 -o GSUtil:parallel_process_count=8 -m cp -r gs://experimental-pipeline-data/EXP-00895_EXP-00904/Exp00904_TissDiss2.zip \"/home/jupyter/EXP-01058\"\n",
    "\n",
    "unzip \"/home/jupyter/EXP-01058/Exp00904_TissDiss2.zip\"\n",
    "```\n",
    "\n",
    "### Downloading tonsil scRNA reference atlas\n",
    "\n",
    "Tonsil scRNA data from the [\"An atlas of cells in the human tonsil\" paper by Massoni-Badosa et al](https://www.cell.com/immunity/pdf/S1074-7613(24)00031-1.pdf).\n",
    "\n",
    "CellRanger output data downloaded from [Zenodo repository](https://zenodo.org/records/10373041).\n",
    "\n",
    "```bash\n",
    "# Downloading tonsil scRNA cellranger output data\n",
    "\n",
    "cd /home/jupyter/EXP-01058/tonsil_reference_cr_outs &&\n",
    "curl -O https://zenodo.org/records/10373041/files/scRNA-seq.zip?download=1 &&\n",
    "unzip scRNA-seq.zip\n",
    "```\n",
    "\n",
    "```bash\n",
    "# Downloading patient metadata\n",
    "\n",
    "cd /home/jupyter/EXP-01058/tonsil_reference_cr_outs &&\n",
    "curl -O https://www.cell.com/cms/10.1016/j.immuni.2024.01.006/attachment/cc6497f7-5ffe-4cf8-9a35-7c776196ea27/mmc3.xlsx\n",
    "```"
   ]
  },
  {
   "cell_type": "markdown",
   "id": "8f7aa42a-0a1c-40e2-a347-5c8328be0ee9",
   "metadata": {},
   "source": [
    "## Downloading Tonsil scRNA reference\n",
    "\n",
    "Zenodo REST API Authentification Token: qgVnt8HwocUyNKLyajDyRQzAaB8jyX3S14uf4uZU4KE00aqQ7BvGC9ONVub5\n",
    "\n",
    "```bash\n",
    "cd /home/jupyter/EXP-01058/test &&\n",
    "curl -o idx.annoy https://zenodo.org/records/10520081/files/idx.annoy?download=1 &&\n",
    "curl -o ref.Rds https://zenodo.org/records/10520081/files/ref.Rds?download=1\n",
    "```"
   ]
  },
  {
   "cell_type": "code",
   "execution_count": 1,
   "id": "b1297755-0973-4548-91c7-b4686d9612f4",
   "metadata": {
    "collapsed": true,
    "jupyter": {
     "outputs_hidden": true
    }
   },
   "outputs": [
    {
     "name": "stderr",
     "output_type": "stream",
     "text": [
      "/home/jupyter/EXP-01058/envs/cell2loc_env/lib/python3.9/site-packages/tqdm/auto.py:21: TqdmWarning: IProgress not found. Please update jupyter and ipywidgets. See https://ipywidgets.readthedocs.io/en/stable/user_install.html\n",
      "  from .autonotebook import tqdm as notebook_tqdm\n",
      "/home/jupyter/EXP-01058/envs/cell2loc_env/lib/python3.9/site-packages/scvi/_settings.py:63: UserWarning: Since v1.0.0, scvi-tools no longer uses a random seed by default. Run `scvi.settings.seed = 0` to reproduce results from previous versions.\n",
      "  self.seed = seed\n",
      "/home/jupyter/EXP-01058/envs/cell2loc_env/lib/python3.9/site-packages/scvi/_settings.py:70: UserWarning: Setting `dl_pin_memory_gpu_training` is deprecated in v1.0 and will be removed in v1.1. Please pass in `pin_memory` to the data loaders instead.\n",
      "  self.dl_pin_memory_gpu_training = (\n"
     ]
    }
   ],
   "source": [
    "import scanpy as sc\n",
    "import numpy as np\n",
    "import matplotlib.pyplot as plt\n",
    "import matplotlib as mpl\n",
    "import cell2location\n",
    "import seaborn as sns\n",
    "import os\n",
    "import pandas as pd\n",
    "from functions import *\n",
    "\n",
    "from matplotlib import rcParams\n",
    "rcParams['pdf.fonttype'] = 42 # enables correct plotting of text for PDFs"
   ]
  },
  {
   "cell_type": "markdown",
   "id": "3dc636ee-2fe0-4ba2-bb8d-a1896413940a",
   "metadata": {},
   "source": [
    "#### Loading in visium HD, visium vanilla, and scRNA data"
   ]
  },
  {
   "cell_type": "code",
   "execution_count": 2,
   "id": "4c427a87-f414-41dc-86a8-632a9f623fa8",
   "metadata": {
    "collapsed": true,
    "jupyter": {
     "outputs_hidden": true
    }
   },
   "outputs": [
    {
     "name": "stderr",
     "output_type": "stream",
     "text": [
      "/home/jupyter/EXP-01058/envs/cell2loc_env/lib/python3.9/site-packages/anndata/_core/anndata.py:1820: UserWarning: Variable names are not unique. To make them unique, call `.var_names_make_unique`.\n",
      "  utils.warn_names_duplicates(\"var\")\n",
      "/home/jupyter/EXP-01058/envs/cell2loc_env/lib/python3.9/site-packages/anndata/_core/anndata.py:1820: UserWarning: Variable names are not unique. To make them unique, call `.var_names_make_unique`.\n",
      "  utils.warn_names_duplicates(\"var\")\n",
      "/home/jupyter/EXP-01058/envs/cell2loc_env/lib/python3.9/site-packages/anndata/_core/anndata.py:1820: UserWarning: Variable names are not unique. To make them unique, call `.var_names_make_unique`.\n",
      "  utils.warn_names_duplicates(\"var\")\n",
      "/home/jupyter/EXP-01058/envs/cell2loc_env/lib/python3.9/site-packages/anndata/_core/anndata.py:1820: UserWarning: Variable names are not unique. To make them unique, call `.var_names_make_unique`.\n",
      "  utils.warn_names_duplicates(\"var\")\n",
      "/home/jupyter/EXP-01058/envs/cell2loc_env/lib/python3.9/site-packages/anndata/_core/anndata.py:1820: UserWarning: Variable names are not unique. To make them unique, call `.var_names_make_unique`.\n",
      "  utils.warn_names_duplicates(\"var\")\n",
      "/home/jupyter/EXP-01058/envs/cell2loc_env/lib/python3.9/site-packages/anndata/_core/anndata.py:1820: UserWarning: Variable names are not unique. To make them unique, call `.var_names_make_unique`.\n",
      "  utils.warn_names_duplicates(\"var\")\n"
     ]
    }
   ],
   "source": [
    "home_dir = \"/home/jupyter\"\n",
    "\n",
    "# Setting visium HD paths\n",
    "vis_hd_bin_dir_ = \"EXP-01058/TIS05740-001-021/outs/binned_outputs/square_008um\"\n",
    "vis_hd_spatial_dir_ = \"EXP-01058/TIS05740-001-021/outs/binned_outputs/square_008um/spatial\"\n",
    "bin_dir = os.path.join(home_dir, vis_hd_bin_dir_)\n",
    "spatial_dir = os.path.join(home_dir, vis_hd_spatial_dir_)\n",
    "\n",
    "# Creating tissue_positions.parquet to csv\n",
    "df = pd.read_parquet(os.path.join(home_dir, spatial_dir, \"tissue_positions.parquet\")).set_index('barcode')\n",
    "df.to_csv(os.path.join(home_dir, spatial_dir, \"tissue_positions.csv\"))\n",
    "\n",
    "# Setting vanilla visium paths\n",
    "vis_vanilla_dir_ = \"EXP-01058/EXP00826_VisB_tonsil_sr_outs/outs\"\n",
    "vis_vanilla_dir = os.path.join(home_dir, vis_vanilla_dir_)\n",
    "\n",
    "# Setting scRNA paths\n",
    "rna_dir_ = \"EXP-01058/Exp00904_TissDiss2/Exp00904_w1_Visium_NewBlock/outs/per_sample_outs/Exp00904_w1_Visium_NewBlock/count/sample_filtered_feature_bc_matrix.h5\"\n",
    "rna_dir = os.path.join(home_dir, rna_dir_)\n",
    "\n",
    "# Reading in visium HD data\n",
    "hd_adata = preprocess_vis_adata(sc.read_visium(bin_dir))\n",
    "\n",
    "# Reading in visium vanilla data\n",
    "vanilla_adata = preprocess_vis_adata(sc.read_visium(vis_vanilla_dir))\n",
    "\n",
    "# Reading in scRNA data\n",
    "rna_adata = sc.read_10x_h5(rna_dir)"
   ]
  },
  {
   "cell_type": "markdown",
   "id": "a8d24e57-93c3-4716-9878-c856dceecac3",
   "metadata": {},
   "source": [
    "#### cell2location deconvolution and cell type mapping"
   ]
  },
  {
   "cell_type": "code",
   "execution_count": null,
   "id": "f9aac697-8a01-44b9-897f-6de2d52a2250",
   "metadata": {},
   "outputs": [],
   "source": [
    "vis_data.obs['sample'] = list(vis_data.uns['spatial'].keys())[0]\n",
    "\n",
    "vis_data.var['SYMBOL'] = vis_data.var_names\n",
    "vis_data.var.set_index('gene_ids', drop=True, inplace=True)\n",
    "\n",
    "vis_data.var['MT_gene'] = [gene.startswith('MT-') for gene in vis_data.var['SYMBOL']]\n",
    "\n",
    "vis_data.obsm['MT'] = vis_data[:, vis_data.var['MT_gene'].values].X.toarray()\n",
    "vis_data = vis_data[:, ~vis_data.var['MT_gene'].values]"
   ]
  },
  {
   "cell_type": "code",
   "execution_count": null,
   "id": "ac4fb60f-b8ca-4c1b-89eb-8f309ecdb846",
   "metadata": {},
   "outputs": [],
   "source": [
    "# Install 'requests' module for python\n",
    "pip install requests\n",
    "\n",
    "# Install 'axios' module for nodejs\n",
    "npm install axios\n",
    "\n",
    "import requests\n",
    "r = requests.get(\"https://zenodo.org/api/deposit/depositions\")\n",
    "r.status_code\n",
    "# 401\n",
    "r.json()\n",
    "\n",
    "ACCESS_TOKEN = 'RTw8uVKhOgQUPE8ronaEANADqewQqiv2UdJ5CQTjqIKJS35CGppKAcHqYNfx'\n",
    "r = requests.get('https://zenodo.org/api/deposit/depositions',\n",
    "                  params={'access_token': ACCESS_TOKEN})\n",
    "r.status_code\n",
    "# 200\n",
    "r.json()\n",
    "# []"
   ]
  }
 ],
 "metadata": {
  "kernelspec": {
   "display_name": "Environment (cell2loc_env)",
   "language": "python",
   "name": "cell2loc_env"
  },
  "language_info": {
   "codemirror_mode": {
    "name": "ipython",
    "version": 3
   },
   "file_extension": ".py",
   "mimetype": "text/x-python",
   "name": "python",
   "nbconvert_exporter": "python",
   "pygments_lexer": "ipython3",
   "version": "3.9.19"
  }
 },
 "nbformat": 4,
 "nbformat_minor": 5
}
